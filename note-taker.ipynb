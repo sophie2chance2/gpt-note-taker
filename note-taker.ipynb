{
 "cells": [
  {
   "cell_type": "code",
   "execution_count": null,
   "metadata": {},
   "outputs": [],
   "source": [
    "import PyPDF2\n",
    "import re\n",
    "from IPython.display import display, Markdown\n",
    "\n",
    "import os\n",
    "import openai\n",
    "\n",
    "import json\n",
    "credentials = json.load(open('keys.json'))\n",
    "openai.organization = credentials['organization_key']\n",
    "openai.api_key = credentials['api_key']"
   ]
  },
  {
   "cell_type": "code",
   "execution_count": null,
   "metadata": {},
   "outputs": [],
   "source": [
    "class Section:\n",
    "    def __init__(self, number, title, text, lo, gpt_notes = \"\"):\n",
    "        self.number = number\n",
    "        self.title = title\n",
    "        self.text = text\n",
    "        self.lo = lo\n",
    "        self.gpt_notes = gpt_notes\n",
    "\n",
    "    def __str__(self):\n",
    "        lo_string = \"\\n\\n\".join(f'*{lo}*' for lo in self.lo)\n",
    "        return f'**{self.number} {self.title}**\\n\\n{lo_string}\\n\\n{self.gpt_notes}'\n",
    "    \n",
    "    def display(self):\n",
    "        display(Markdown(str(self)))"
   ]
  },
  {
   "cell_type": "code",
   "execution_count": null,
   "metadata": {},
   "outputs": [],
   "source": [
    "def get_pdf_content(file_path):\n",
    "    pdf_file_obj = open(file_path, 'rb')\n",
    "    reader = PyPDF2.PdfReader(pdf_file_obj)\n",
    "\n",
    "    content = \"\"\n",
    "    for page_num in range(len(reader.pages)):\n",
    "        page_obj = reader.pages[page_num]\n",
    "        content += page_obj.extract_text()\n",
    "\n",
    "    pdf_file_obj.close()\n",
    "\n",
    "    return content\n",
    "\n",
    "def find_sections(content, section_num):\n",
    "    pattern = fr\"({section_num}\\.\\d+(\\.\\d+)*)(.*?)(?=({section_num}\\.\\d+(\\.\\d+)*)|$)\"\n",
    "    sections_raw = re.findall(pattern, content, re.DOTALL)\n",
    "    sections = []\n",
    "    for t in sections_raw:\n",
    "        number = t[0]\n",
    "        title = t[2].split(\"\\n\")[0].lstrip().rstrip()\n",
    "        text = t[2]\n",
    "        text = text.replace(title, '').replace(\"This element addresses the following learning objective of this course:\\n\", '').replace(\"This element addresses the following learning objectives of this course:\", '').replace(\"\\n\", \" \").replace(\"● \", \"\").replace(\"  \", \" \").lstrip().rstrip()\n",
    "        text_without_lo = remove_lo(text)\n",
    "        lo = get_lo(text)\n",
    "        sections.append(Section(number, title, text_without_lo, lo))\n",
    "    return sections\n",
    "\n",
    "def get_lo(content):\n",
    "    pattern = r\"(LO\\d+:.*?[.!?])\"\n",
    "    los = re.findall(pattern, content)\n",
    "    return [re.sub(r'LO\\d+: ', '', lo) for lo in los]\n",
    "\n",
    "def remove_lo(content):\n",
    "    pattern = r\"(LO\\d+:.*?[.!?])\"\n",
    "    return re.sub(pattern, '', content, flags=re.MULTILINE)"
   ]
  },
  {
   "cell_type": "code",
   "execution_count": null,
   "metadata": {},
   "outputs": [],
   "source": [
    "# Read in the PDF\n",
    "# UPDATE FILE AND SECTION NUMBER HERE\n",
    "pdf_content = get_pdf_content('Week 10 transcript (updated June 2021).pdf')\n",
    "section_num = \"10\""
   ]
  },
  {
   "cell_type": "code",
   "execution_count": null,
   "metadata": {},
   "outputs": [],
   "source": [
    "# Overwrite all the workd that is done. DO NOT DO THIS UNLESS YOU WANT TO START OVER\n",
    "sections = find_sections(pdf_content, section_num)"
   ]
  },
  {
   "cell_type": "code",
   "execution_count": null,
   "metadata": {},
   "outputs": [
    {
     "name": "stdout",
     "output_type": "stream",
     "text": [
      "Biases in Decision Making, Part 1 - Complete\n",
      " - Complete\n",
      " - Complete\n",
      "Common Biases Overview - Complete\n",
      "Self-Serving Bias (SSB) - Complete\n",
      "How Self-Serving Bias (SSB) Surfaces - Complete\n",
      "Ambiguity Effect - Complete\n",
      "Endowment Effect - Complete\n",
      "Endowment Effect vs. Reality - Complete\n",
      "Hindsight Bias - Complete\n",
      "Hindsight Bias Consequences● Hindsight bias obviously can have pernicious consequences for leadership and - Complete\n",
      "Bias Interview - Complete\n",
      "Make Choices Consistent With - Complete\n",
      "Dead Conventions - Complete\n",
      "Similarities and DifferencesThe 1950s advertisements Steve references can be found below the video. - Complete\n",
      "Fallacies in Decision Making - Complete\n",
      "Demonstrating Fallacies - Complete\n",
      " - Complete\n",
      " - Complete\n",
      " - Complete\n",
      " - Complete\n",
      "The Powerful Anecdote - Complete\n",
      "The Appeal to Novelty - Complete\n",
      "The Slippery Slope - Complete\n",
      "Bad Decisions Are Human: - Complete\n",
      "Bad Decisions Are Human - Complete\n",
      "The Rules of Inference - Complete\n",
      "Applied Examples of the Rules of Inference - Complete\n",
      "John Stuart Mill's Rules of Inference - Complete\n",
      " - Complete\n",
      "Expert Mind vs. Beginner Mind - Complete\n",
      "Premortum Analysis - Complete\n"
     ]
    }
   ],
   "source": [
    "for section in sections:\n",
    "    if section.text == \"\" or \"on the following prompt\" in section.text:\n",
    "        continue\n",
    "    if section.gpt_notes != \"\":\n",
    "        continue\n",
    "    else:\n",
    "        gpt_content = f\"\"\"Topic: {section.title}\n",
    "        Detail Level: I would like something between high-level summary and detailed notes.\n",
    "        Learning Objectives: {'; '.join(section.lo)}\n",
    "        Format: I prefer the notes to be in bullet-point or table format.\n",
    "        Course Transcript: {section.text}\n",
    "        Purpose: The notes are for my personal understanding and to facilitate in class discussion with my peers.\"\"\"\n",
    "        completion = openai.ChatCompletion.create(\n",
    "            model=\"gpt-3.5-turbo\",\n",
    "            messages=[\n",
    "                {\"role\": \"user\", \n",
    "                 \"content\": gpt_content}\n",
    "                 ])\n",
    "        section.gpt_notes = completion.choices[0].message.content\n",
    "\n",
    "    print(section.title, \"- Complete\")"
   ]
  },
  {
   "cell_type": "code",
   "execution_count": 7,
   "metadata": {},
   "outputs": [
    {
     "data": {
      "text/markdown": [
       "**10.1 Biases in Decision Making, Part 1**\n",
       "\n",
       "\n",
       "\n",
       "- Biases in decision making are inherent cognitive shortcuts or mental patterns that can influence our judgments and decisions.\n",
       "- Confirmation bias: tendency to seek and interpret information in a way that confirms our preexisting beliefs or hypotheses.\n",
       "- Dunning-Kruger effect: cognitive bias where individuals with low ability at a particular task overestimate their ability, while those with high ability may underestimate their own competence.\n",
       "- Cognitive dissonance: psychological discomfort caused by holding conflicting beliefs or values, leading to a desire to reduce the discomfort through behavior or attitude changes.\n",
       "- Philosophy of science: provides a framework for understanding scientific methods, theories, and the nature of scientific inquiry.\n",
       "- Loss aversion: the tendency to strongly prefer avoiding losses compared to acquiring equivalent gains, often leading to irrational decision making.\n",
       "- Overconfidence: the tendency to have excessive confidence in one's own abilities or judgments, often leading to errors in decision making.\n",
       "- These biases can shape our worldview, affect our decision making processes, and impact the outcomes of our choices.\n",
       "- Awareness of biases is important to mitigate their negative impact and make more informed decisions.\n",
       "- The videos provide insights into the concepts, consequences, and real-life examples related to these biases."
      ],
      "text/plain": [
       "<IPython.core.display.Markdown object>"
      ]
     },
     "metadata": {},
     "output_type": "display_data"
    },
    {
     "data": {
      "text/markdown": [
       "**10.2 **\n",
       "\n",
       "\n",
       "\n",
       "- Biases in decision making can be both fascinating and funny to study\n",
       "- There is an ongoing debate about whether certain behaviors are rational or irrational\n",
       "- Example: People buying a car after test driving only two or three cars\n",
       "- The idea of rationality can be seen as \"just so stories\" and can be misleading\n",
       "- The focus should be on understanding and identifying common biases in decision making\n",
       "- The goal is to use data to address biases for the benefit of the decision maker\n",
       "- Example: Two identical cancer patients making a decision about an experimental treatment\n",
       "- The emphasis is not on who made the right or rational choice, but on using data to save lives\n",
       "- Data alone may not overcome biases, but it can make a difference when presented correctly at the right moment in the decision process\n",
       "- There will be experiments in the future to identify and utilize valuable windows of opportunity in decision-making processes for both individuals and businesses."
      ],
      "text/plain": [
       "<IPython.core.display.Markdown object>"
      ]
     },
     "metadata": {},
     "output_type": "display_data"
    },
    {
     "data": {
      "text/markdown": [
       "**10.3 **\n",
       "\n",
       "\n",
       "\n",
       "- Biases in decision making\n",
       "- Confirmation bias: seeking evidence that supports our hypothesis and ignoring evidence that conflicts with it\n",
       "- Examples: personal health hypothesis, belief in a company's stock, cherry picking data in scientific papers\n",
       "- Confirmation bias is not intentional, but a cognitive and emotional mistake\n",
       "- Splitting and bolstering: making alternatives seem more different than they are and bolstering our chosen option\n",
       "- Examples: choosing between two cars, corporate mergers and acquisitions\n",
       "- Reasons for splitting and bolstering: reducing cognitive dissonance, reducing discomfort and uncertainty, reducing appearance of ambivalence\n",
       "- Splitting and bolstering can be a management tactic to appear decisive and provide certainty\n",
       "- Examples: leadership in uncertain situations, political decision making"
      ],
      "text/plain": [
       "<IPython.core.display.Markdown object>"
      ]
     },
     "metadata": {},
     "output_type": "display_data"
    },
    {
     "data": {
      "text/markdown": [
       "**Common Biases Overview**"
      ],
      "text/plain": [
       "<IPython.core.display.Markdown object>"
      ]
     },
     "metadata": {},
     "output_type": "display_data"
    },
    {
     "data": {
      "text/markdown": [
       "**10.4.1 Common Biases Overview**\n",
       "\n",
       "*Navigate organizational, personal, legal, and ethical constraints to facilitate better decision making and improve communication.*\n",
       "\n",
       "Common Biases Overview:\n",
       "\n",
       "1. Confirmation Bias:\n",
       "- The tendency to search for, interpret, and remember information in a way that confirms one's preexisting beliefs.\n",
       "- People tend to ignore or dismiss information that challenges their existing views.\n",
       "- Example: A person who believes that climate change is a hoax may only seek out information that supports their belief and ignore research and evidence to the contrary.\n",
       "\n",
       "2. Anchoring Bias:\n",
       "- The tendency to rely too heavily on the first piece of information encountered when making a decision.\n",
       "- This information acts as an \"anchor\" and influences subsequent judgments.\n",
       "- Example: Pricing an item higher than its actual value to make a later price seem like a better deal.\n",
       "\n",
       "3. Availability Bias:\n",
       "- The tendency to overestimate the likelihood of events based on their availability in memory.\n",
       "- People rely on immediate examples that come to mind rather than considering complete data or statistical probabilities.\n",
       "- Example: Someone might assume that plane crashes are more frequent than car accidents because news headlines about plane crashes tend to be more attention-grabbing.\n",
       "\n",
       "4. Confirmation Bias:\n",
       "- The tendency to seek out and interpret information that confirms one's existing beliefs while ignoring contradictory evidence.\n",
       "- This bias can lead to a reinforcement of preexisting beliefs and hinder openness to alternative perspectives or information.\n",
       "- Example: A person who strongly believes in a particular political ideology may only consume media that aligns with their beliefs, thus reinforcing their views.\n",
       "\n",
       "5. Overconfidence Bias:\n",
       "- The tendency to overestimate one's abilities, knowledge, or wisdom.\n",
       "- People often have an unwarranted confidence in their judgments or predictions.\n",
       "- Example: A student may perceive themselves as better prepared for an exam than they actually are, leading to poor performance.\n",
       "\n",
       "6. Confirmation Bias:\n",
       "- The tendency to interpret or remember information in a way that confirms our existing beliefs or theories.\n",
       "- This can lead to selective perception and memory distortion.\n",
       "- Example: A person who values punctuality may perceive others as being late more often than they actually are.\n",
       "\n",
       "7. Halo Effect:\n",
       "- The tendency to generalize a positive impression of someone or something based on one specific characteristic or trait.\n",
       "- This can lead to biased judgments and assumptions about unrelated attributes.\n",
       "- Example: Assuming that a physically attractive person must also be intelligent and kind.\n",
       "\n",
       "8. Hindsight Bias:\n",
       "- The tendency to see past events as more predictable than they actually were.\n",
       "- This bias can lead to an overestimation of one's ability to predict future events and an underestimation of luck or chance.\n",
       "- Example: After a stock market crash, people may claim they \"knew it was going to happen\" when in reality they were not able to predict it accurately.\n",
       "\n",
       "Note: This is not an exhaustive list of biases, and there are many other biases that can influence decision-making and communication."
      ],
      "text/plain": [
       "<IPython.core.display.Markdown object>"
      ]
     },
     "metadata": {},
     "output_type": "display_data"
    },
    {
     "data": {
      "text/markdown": [
       "**10.4.2 Self-Serving Bias (SSB)**\n",
       "\n",
       "\n",
       "\n",
       "- Self-Serving Bias (SSB) is a psychological bias where individuals tend to attribute their successes to personal skill and their failures to external factors such as luck or someone else's mistake.\n",
       "- It is a special case of the fundamental attribution error, which is the tendency to attribute others' behavior to dispositional (internal) factors rather than situational (external) factors.\n",
       "- Individuals with high confidence levels are more likely to exhibit self-serving bias, attributing their successes to their own abilities and skills.\n",
       "- On the other hand, individuals with low confidence levels often make the opposite attribution, blaming themselves for their failures and downplaying their successes.\n",
       "- An example of self-deprecating humor in the intelligence community illustrates this bias: \"In Washington, there are intelligence failures and policy successes but never the opposite.\"\n",
       "- Self-Serving Bias has both hot (emotional) and cold (cognitive) components.\n",
       "- The hot component involves enhancing self-esteem, where individuals attribute their successes to bolster their self-image and protect their self-worth.\n",
       "- The cold component involves enhancing the individual's sense of control over the situation, attributing successes to internal factors to maintain a sense of agency.\n",
       "- Understanding self-serving bias can help shed light on why individuals may take credit for their successes while attributing their failures to external factors.\n",
       "- The bias can have implications in various aspects of life, including personal relationships, work environments, and decision-making processes.\n",
       "- Recognizing and being aware of self-serving bias can be helpful in promoting fair and accurate evaluations and attributions in both individual and group settings."
      ],
      "text/plain": [
       "<IPython.core.display.Markdown object>"
      ]
     },
     "metadata": {},
     "output_type": "display_data"
    },
    {
     "data": {
      "text/markdown": [
       "**10.4.3 How Self-Serving Bias (SSB) Surfaces**\n",
       "\n",
       "\n",
       "\n",
       "- Self-Serving Bias (SSB) is a cognitive bias where individuals tend to attribute their successes to internal factors (e.g., abilities, effort) and their failures to external factors (e.g., luck, circumstances).\n",
       "- SSB is slightly more prevalent in men than in women.\n",
       "- SSB is slightly less prevalent in older people compared to younger people.\n",
       "- However, these gender and age differences should not be taken too seriously in corporate decision-making environments due to the potential influence of selection bias.\n",
       "- Selection bias can easily overshadow the gender and age differences in SSB in corporate decision-making environments.\n",
       "- Research suggests that individuals tend to dif ferentially take credit for success when the computer is involved as a counterparty in a decision situation.\n",
       "- On the other hand, individuals often ascribe the blame for failure to software when the computer is involved as a counterparty in a decision situation."
      ],
      "text/plain": [
       "<IPython.core.display.Markdown object>"
      ]
     },
     "metadata": {},
     "output_type": "display_data"
    },
    {
     "data": {
      "text/markdown": [
       "**10.4.4 Ambiguity Effect**\n",
       "\n",
       "\n",
       "\n",
       "- Ambiguity effect: bias towards preferring options with more precise probabilities over those with unknown probabilities\n",
       "- This bias can be consistent with subjective expected utility measures, but not always\n",
       "- Colloquial expression: \"A bird in the hand is worth two in the bush\"\n",
       "- In formal terms, this may not be true if the probability of catching a bird in the bush exceeds 50 percent\n",
       "- Ambiguity effect is most visible when the probability of catching the bird in the bush is unknown or when the number of birds in the bush is unknown\n",
       "- Rational decision makers would invest effort in searching for information or models to estimate the probability of the ambiguous option\n",
       "- Data scientists may be called in to provide probability estimates for ambiguous options, but the ambiguity effect suggests they are called in less frequently than they should be."
      ],
      "text/plain": [
       "<IPython.core.display.Markdown object>"
      ]
     },
     "metadata": {},
     "output_type": "display_data"
    },
    {
     "data": {
      "text/markdown": [
       "**10.4.5 Endowment Effect**\n",
       "\n",
       "\n",
       "\n",
       "- The endowment effect refers to the tendency for individuals to value an item more when they possess it compared to when they don't.\n",
       "- It was first coined by Richard Thaler, a behavioral economist, in the late 1980s.\n",
       "- This effect can be observed across various types of goods, both material and non-material.\n",
       "- The endowment effect suggests that people become emotionally attached to their possessions, attributing a higher value to them due to factors like ownership, familiarity, and personalization.\n",
       "- This effect leads to the discrepancy between the price individuals are willing to pay to acquire an item (willingness to buy) and the price they are willing to accept to give up the same item (willingness to sell).\n",
       "- Studies have shown that the endowment effect is not dependent on the economic value of the item, as it can be observed even for trivial or inexpensive objects.\n",
       "- The endowment effect can have significant implications in various fields, including consumer behavior, marketing, financial decision making, and negotiation strategies.\n",
       "- Understanding the endowment effect can help explain irrational economic behaviors and improve decision-making processes.\n",
       "- Strategies to minimize the endowment effect include increasing people's awareness of the bias, framing the transaction differently, and using mechanisms like auctions or market competition to determine prices."
      ],
      "text/plain": [
       "<IPython.core.display.Markdown object>"
      ]
     },
     "metadata": {},
     "output_type": "display_data"
    },
    {
     "data": {
      "text/markdown": [
       "**10.4.6 Endowment Effect vs. Reality**\n",
       "\n",
       "\n",
       "\n",
       "- The endowment effect is a cognitive bias where individuals place a higher value on an object they own compared to an identical object they do not own\n",
       "- Loss aversion, which is the tendency to feel the negative impact of a loss more strongly than the positive impact of a gain, plays a role in the endowment effect\n",
       "- When people believe they own something, they are less likely to part with it and may demand a higher price to sell it compared to acquiring the same thing\n",
       "- The endowment effect can impact decision-making in various contexts, including mergers and acquisitions negotiations\n",
       "- Some potentially beneficial deals may not be pursued if the endowment effect is significant enough to influence decision makers\n",
       "- Data scientists may be able to intervene and help decision makers become more aware of the endowment effect, its impact on markets, and potential strategies to compensate for it\n",
       "- The purpose of discussing the endowment effect is to gain a better understanding of this bias and its implications in order to facilitate class discussions and enhance decision-making abilities."
      ],
      "text/plain": [
       "<IPython.core.display.Markdown object>"
      ]
     },
     "metadata": {},
     "output_type": "display_data"
    },
    {
     "data": {
      "text/markdown": [
       "**10.4.7 Hindsight Bias**\n",
       "\n",
       "\n",
       "\n",
       "- Hindsight bias refers to the tendency to see past events as more predictable or determined than they actually were before they happened.\n",
       "- It is commonly observed in situations where individuals claim they \"knew it all along\" or when people criticize others for making incorrect decisions.\n",
       "- Decision makers and those in positions of authority and responsibility often fall victim to hindsight bias, especially when they believe they would have made the correct decision if given the chance.\n",
       "- This bias can lead to overconfidence in decision making and can impair the ability to learn from past mistakes.\n",
       "- Hindsight bias can also influence how individuals interpret historical events, often leading them to see the outcomes as being inevitable or heavily influenced by prior knowledge.\n",
       "- Social psychologist Phil Tetlock summarized hindsight bias by stating, \"What yesterday was completely unpredictable, tomorrow will be seen as having been overdetermined.\"\n",
       "- Recognizing and understanding hindsight bias is important for decision makers to avoid falling into the trap of overestimating their own abilities and underestimating uncertainty."
      ],
      "text/plain": [
       "<IPython.core.display.Markdown object>"
      ]
     },
     "metadata": {},
     "output_type": "display_data"
    },
    {
     "data": {
      "text/markdown": [
       "**10.4.8 Hindsight Bias Consequences● Hindsight bias obviously can have pernicious consequences for leadership and**\n",
       "\n",
       "\n",
       "\n",
       "- Hindsight bias can have negative consequences for leadership and decision making in organizations.\n",
       "- It is particularly damaging for individual learning because it hinders the ability to learn from others' mistakes and failures.\n",
       "- Decision makers with hindsight bias often believe they would have made different decisions and fail to learn from the actual outcomes.\n",
       "- Hindsight bias can make it difficult for decision makers to understand and incorporate the results of experimental studies.\n",
       "- If decision makers cannot be convinced that the probabilities of different outcomes are not tilted towards the actual outcome, experimental controls will not be effective.\n",
       "- Managing hindsight bias requires maintaining an understanding of the contingency of outcomes, even after the actual outcome is known from recorded history.\n",
       "- Hindsight bias is a challenge faced by not only experimental researchers but also mystery novel and movie script writers.\n",
       "- Notes are for personal understanding and facilitating class discussions."
      ],
      "text/plain": [
       "<IPython.core.display.Markdown object>"
      ]
     },
     "metadata": {},
     "output_type": "display_data"
    },
    {
     "data": {
      "text/markdown": [
       "**10.5 Bias Interview**\n",
       "\n",
       "*Navigate organizational, personal, legal, and ethical constraints to facilitate better decision making and improve communication.*\n",
       "\n",
       "- Jeff Zych is a front end developer at Optimizely, an A/B testing company\n",
       "- A/B testing is a way of measuring the impact of website changes by comparing two versions of a page and measuring the differences in user behavior\n",
       "- A/B testing allows companies to test different elements such as text, buttons, layout, etc. to see if they have a positive impact on key metrics\n",
       "- A/B testing can provide powerful data and insights into user behavior and decision-making processes\n",
       "- Behavioral economics is a study of why people make decisions and can provide insights into testing theories\n",
       "- People can get overwhelmed with too many choices, so it's important to limit the number of options on a website to prevent decision paralysis\n",
       "- A/B testing is a cheap and efficient way to gather data about specific questions and target website attractiveness\n",
       "- Collaboration between designers and data analysts is important at Optimizely, with designers being data-driven and considering how to test their designs\n",
       "- Balancing intuition and aesthetics with data-driven decisions is important in design and testing\n",
       "- The future of A/B testing may involve more personalized experiences and testing across different devices, but current tools are limited in tracking user interactions across devices"
      ],
      "text/plain": [
       "<IPython.core.display.Markdown object>"
      ]
     },
     "metadata": {},
     "output_type": "display_data"
    },
    {
     "data": {
      "text/markdown": [
       "**10.6 Make Choices Consistent With**\n",
       "\n",
       "\n",
       "\n",
       "- Biases are not inherently good or bad, they simply exist\n",
       "- Understanding the reasons behind biases can help in countering or modifying them\n",
       "- The negativity bias, where bad experiences are remembered more easily than good ones, likely helped survival in the past but is no longer necessary\n",
       "- The goal is to make decisions that are consistent with our own interests and that we are less likely to regret\n",
       "- Rationality vs. irrationality is not the main focus, as it can become another bias itself\n",
       "- The aim is to help real people and organizations make better decisions by avoiding making the same mistakes repeatedly\n",
       "- Esther Dyson suggests making different mistakes as a way to counter biases and avoid repeating the same mistakes."
      ],
      "text/plain": [
       "<IPython.core.display.Markdown object>"
      ]
     },
     "metadata": {},
     "output_type": "display_data"
    },
    {
     "data": {
      "text/markdown": [
       "**Biases in Action**"
      ],
      "text/plain": [
       "<IPython.core.display.Markdown object>"
      ]
     },
     "metadata": {},
     "output_type": "display_data"
    },
    {
     "data": {
      "text/markdown": [
       "**10.8 Dead Conventions**\n",
       "\n",
       "*Navigate organizational, personal, legal, and ethical constraints to facilitate better decision making and improve communication.*\n",
       "\n",
       "- Conventions are routines or ways of doing things that are not usually questioned\n",
       "- Conventions are present in all social systems, including countries, businesses, and families\n",
       "- Conventions are often unconscious and people may not remember why they started doing things a certain way\n",
       "- Conventions are often only recognized when they are impossible to fulfill or are questioned by an outsider\n",
       "- Conventions can be re-evaluated and changed, but it can be difficult to break them\n",
       "- Dead conventions are conventions that have become outdated or no longer serve a purpose\n",
       "- Dead conventions can be seen as real due to the mindset of individuals\n",
       "- Examples of dead conventions: the assumption that the person sitting in a large office is the boss, the assumption that someone who speaks multiple languages must be connected to a transnational company or is a spy\n",
       "- Breaking conventions can have a profound impact, revolutionizing industries or companies\n",
       "- Example of Apple breaking a convention: Steve Jobs introducing an open-source operating system (OS 10) instead of a proprietary one\n",
       "- This decision allowed for the success and adaptability of Apple's operating system across different devices\n",
       "- HBO broke conventions in the TV and movie industry by producing high-quality and demanding content, challenging the belief that TV audiences don't expect much\n",
       "- This broke the convention that TV was for second-tier people and revolutionized the content industry\n",
       "- Conventions are sticky and can be difficult to change, even with compelling data\n",
       "- Data alone is not enough to change a convention, broader thinking and consideration of how the data will impact the convention is necessary."
      ],
      "text/plain": [
       "<IPython.core.display.Markdown object>"
      ]
     },
     "metadata": {},
     "output_type": "display_data"
    },
    {
     "data": {
      "text/markdown": [
       "**10.9 Similarities and DifferencesThe 1950s advertisements Steve references can be found below the video.**\n",
       "\n",
       "*Navigate organizational, personal, legal, and ethical constraints to facilitate better decision making and improve communication.*\n",
       "\n",
       "- Steve advises individuals coming into an organization to look for dead conventions and assumptions that are deeply embedded in the system of thinking.\n",
       "- He mentions classic advertisements from the 1950s as examples to illustrate this point.\n",
       "- The advertisements focus on showcasing changes in technology, new products, and improvements in home appliances.\n",
       "- Different types of advertisements are used, including scenarios, cartoons, and narratives.\n",
       "- The advertisements target different emotions, such as opportunity, fear, excitement, and shame.\n",
       "- The assumption that remains constant in these advertisements is the role of women, which is portrayed as being the same as in 1952.\n",
       "- Steve highlights the absurdity of this assumption and explains how it eventually led to the revolution of women working outside the house.\n",
       "- Organizations hold onto these dead conventions and assumptions tenaciously.\n",
       "- Steve emphasizes the importance of owning the context and bringing data to it in order to have a chance of changing people's minds."
      ],
      "text/plain": [
       "<IPython.core.display.Markdown object>"
      ]
     },
     "metadata": {},
     "output_type": "display_data"
    },
    {
     "data": {
      "text/markdown": [
       "**What Is a Dead Convention in Your**"
      ],
      "text/plain": [
       "<IPython.core.display.Markdown object>"
      ]
     },
     "metadata": {},
     "output_type": "display_data"
    },
    {
     "data": {
      "text/markdown": [
       "**Demonstrating Fallacies**"
      ],
      "text/plain": [
       "<IPython.core.display.Markdown object>"
      ]
     },
     "metadata": {},
     "output_type": "display_data"
    },
    {
     "data": {
      "text/markdown": [
       "**10.11.1 Fallacies in Decision Making**\n",
       "\n",
       "*Navigate organizational, personal, legal, and ethical constraints to facilitate better decision making and improve communication.*\n",
       "\n",
       "- Paradigm assumptions are deeply embedded and can be challenging to recognize and change.\n",
       "- Tempting fallacies of argumentation are reasoning processes that are faulty but still appealing to the human brain.\n",
       "- Logical fallacies are common and can impact our personal lives and organizations.\n",
       "- Understanding and recognizing fallacies is important in decision making.\n",
       "- The \"ecological fallacy\" is an example of a fallacy where people make assumptions about specific cases based on aggregated statistics of a group.\n",
       "- For example, if the BRIC countries are considered a great place to invest, people may assume that India, as a BRIC country, is also a great investment opportunity.\n",
       "- Aggregated statistics can overlook variations within the group.\n",
       "- The bias of the ecological fallacy can be common and should be counteracted in decision making.\n",
       "- Counteracting the fallacy involves questioning assumptions, considering individual cases, and not solely relying on aggregated statistics."
      ],
      "text/plain": [
       "<IPython.core.display.Markdown object>"
      ]
     },
     "metadata": {},
     "output_type": "display_data"
    },
    {
     "data": {
      "text/markdown": [
       "**10.11.2 Demonstrating Fallacies**\n",
       "\n",
       "*Navigate organizational, personal, legal, and ethical constraints to facilitate better decision making and improve communication.*\n",
       "\n",
       "- Fallacies of argumentation are errors in reasoning from A to B or A to C\n",
       "- Bias is about how you interact with information, while fallacies of argumentation are about reasoning process\n",
       "- Fallacies and biases can be present in the same mistake\n",
       "- Fallacies of argumentation are tempting and our brains tend to make them, even when we know they are wrong\n",
       "- There are an infinite number of ways to reason incorrectly, but only a few ways to reason correctly\n",
       "- The ecological fallacy is one prevalent fallacy of argumentation\n",
       "- Ecological fallacy is when you deduce characteristics of one member of a category based on what you know about the whole category\n",
       "- Example of ecological fallacy in the Bay Area: assuming someone is wealthy just because they live in a wealthy area, ignoring the existence of poverty\n",
       "- Example of ecological fallacy in STEM subjects: assuming gender equality based on a few positive cases, without considering the overall representation of women\n",
       "- Scientists can also be unscientific in making ecological fallacy mistakes\n",
       "- Online students are asked to think of a time in the past few days when they may have made an ecological fallacy mistake."
      ],
      "text/plain": [
       "<IPython.core.display.Markdown object>"
      ]
     },
     "metadata": {},
     "output_type": "display_data"
    },
    {
     "data": {
      "text/markdown": [
       "**10.11.3 **\n",
       "\n",
       "\n",
       "\n",
       "- Ecological fallacy refers to a logical error that occurs when conclusions about individual-level data are inferred from group-level data.\n",
       "- It happens when assumptions are made about individuals based solely on characteristics of the group they belong to.\n",
       "- Example: A study finds that on average, people who live in wealthy neighborhoods have higher levels of education. However, it would be a mistake to assume that every individual living in a wealthy neighborhood is highly educated.\n",
       "- Ecological fallacy can lead to inaccurate generalizations and stereotypes.\n",
       "- It can also impact policy decisions and resource allocation if incorrect assumptions about individuals are made based on group-level data.\n",
       "- In the past few days, I observed an instance of ecological fallacy when a news report claimed that a certain community has a high crime rate based on data showing a high crime rate in the surrounding area. However, this stereotyping ignored the fact that the majority of individuals in that specific community had no criminal involvement.\n",
       "- This mistake mattered as it perpetuated negative stereotypes and unfairly stigmatized the community, potentially affecting trust between residents and law enforcement.\n",
       "- Avoiding ecological fallacy requires careful analysis and consideration of individual-level data, rather than solely relying on generalizations based on group-level data."
      ],
      "text/plain": [
       "<IPython.core.display.Markdown object>"
      ]
     },
     "metadata": {},
     "output_type": "display_data"
    },
    {
     "data": {
      "text/markdown": [
       "**10.11.4 **\n",
       "\n",
       "*Navigate organizational, personal, legal, and ethical constraints to facilitate better decision making and improve communication.*\n",
       "\n",
       "- Discussion focuses on manipulating the ecological fallacy and the battle of the null hypothesis\n",
       "- Example given of the creation of the BRIC countries category by Goldman Sachs\n",
       "- BRICs used as a shortcut in decision making and reasoning fallacies can occur\n",
       "- Example in healthcare where survival outliers may be attributed to luck rather than other scientific bases\n",
       "- The battle of the null hypothesis is the fight over who gets to say something is true until proven wrong\n",
       "- Example given of assuming guilt in court cases versus innocent until proven guilty in the US\n",
       "- Null hypothesis impacts power relationships in decision making settings\n",
       "- Example given of Apple products where people assume they will be amazing\n",
       "- Students are asked to think of an example in their work life where the battle of the null hypothesis has been frustrating and hard to overcome."
      ],
      "text/plain": [
       "<IPython.core.display.Markdown object>"
      ]
     },
     "metadata": {},
     "output_type": "display_data"
    },
    {
     "data": {
      "text/markdown": [
       "**10.11.5 **\n",
       "\n",
       "\n",
       "\n",
       "- Discussion question: Have you ever felt like you lost an argument because of the battle of the null hypothesis?\n",
       "\n",
       "- Definition: Null hypothesis is a statement that assumes there is no relationship or difference between variables in a population. It is usually denoted as H0.\n",
       "\n",
       "- Explanation: In an argument, the null hypothesis can be used to challenge someone's claims or assertions. If the null hypothesis is accepted, it means there is not enough evidence to support the alternative hypothesis.\n",
       "\n",
       "- Example scenario: During a debate about a new marketing strategy, you argued that implementing a certain marketing tactic would result in higher sales. However, your opponent challenged your claim by asserting the null hypothesis, stating that there would be no significant difference in sales with the new tactic. As a result, the burden of proof shifted, and you had to provide convincing evidence to reject the null hypothesis and support your case.\n",
       "\n",
       "- Impact on the argument: Losing the battle of the null hypothesis can put you at a disadvantage. If you are unable to provide enough evidence to reject the null hypothesis, your case may be weakened, and your chances of persuading others may diminish.\n",
       "\n",
       "- Level playing field: The battle of the null hypothesis aims to establish a fair and objective evaluation of claims. It ensures that arguments are backed by evidence and that both sides have equal opportunities to present their case.\n",
       "\n",
       "- Importance of recognizing null hypothesis challenges: Understanding the role of the null hypothesis can help improve argumentation skills. By identifying when the null hypothesis is being used against you, you can better prepare and present compelling evidence to support your claims.\n",
       "\n",
       "- In class discussion: Engage with peers to share personal experiences or examples where the battle of the null hypothesis influenced the outcome of an argument. Exchange thoughts on how to effectively counter or overcome null hypothesis challenges in future debates."
      ],
      "text/plain": [
       "<IPython.core.display.Markdown object>"
      ]
     },
     "metadata": {},
     "output_type": "display_data"
    },
    {
     "data": {
      "text/markdown": [
       "**10.11.6 **\n",
       "\n",
       "*Navigate organizational, personal, legal, and ethical constraints to facilitate better decision making and improve communication.*\n",
       "\n",
       "- Discussion topic: Counteracting the battle of the null hypothesis\n",
       "- Null hypothesis: A default assumption that there is no significant relationship between variables\n",
       "- Importance of challenging or changing the null hypothesis\n",
       "- Data as a tool to assess the correctness of the null hypothesis, but limitations exist due to human biases\n",
       "- The need for argumentation and presenting data to change deeply embedded null hypotheses\n",
       "- Shock value of extraordinary data or presentations to break loose deeply embedded null hypotheses\n",
       "- Encouraging consideration of alternative hypotheses and questioning what is known\n",
       "- Challenge of moving people from their fixed beliefs (point A) to considering alternative hypotheses (point B)\n",
       "- Conclusion: Further discussion is needed to explore strategies for countering the tendency to stick to strong null hypotheses."
      ],
      "text/plain": [
       "<IPython.core.display.Markdown object>"
      ]
     },
     "metadata": {},
     "output_type": "display_data"
    },
    {
     "data": {
      "text/markdown": [
       "**10.11.7 The Powerful Anecdote**\n",
       "\n",
       "\n",
       "\n",
       "- Anecdotes can be powerful and emotionally resonant, making them persuasive even in the face of contradictory data.\n",
       "- This fallacy is known as misleading vividness, where a single anecdote is given more weight than it deserves.\n",
       "- A common example is using a funny or cute story about a child to make an argument about how kids use technology.\n",
       "- It's important to consider the context and assumptions surrounding the person telling the anecdote, as it may not represent a typical or representative case.\n",
       "- The plural of anecdote is not data, highlighting the need to rely on evidence and statistics rather than personal stories.\n",
       "- Anecdotes can be effective in engaging people's emotions, but they should not be used as a substitute for robust evidence.\n",
       "- When encountering an anecdote, it is crucial to verify and contextualize the information provided before drawing conclusions.\n",
       "- Engaging in critical thinking and seeking out additional data can help to counteract the influence of powerful anecdotes.\n",
       "- In a business setting, it is important to weigh the potential biases and limitations in relying solely on anecdotes when making decisions."
      ],
      "text/plain": [
       "<IPython.core.display.Markdown object>"
      ]
     },
     "metadata": {},
     "output_type": "display_data"
    },
    {
     "data": {
      "text/markdown": [
       "**10.11.8 The Appeal to Novelty**\n",
       "\n",
       "\n",
       "\n",
       "- The appeal to novelty is a fallacy that occurs when someone argues that idea A is better than idea B simply because idea A is new.\n",
       "- This fallacy can undermine rational argumentation by prioritizing novelty over evidence or comparison of traits.\n",
       "- It operates in tension with the \"status quo\" bias in decision making, where change is more difficult than maintaining the current state.\n",
       "- \"New\" ideas are often seen as interesting, exciting, and sometimes frightening, which can attract people's attention.\n",
       "- Defending the status quo can be seen as defensive or overly conservative in contrast to the appeal of something new.\n",
       "- In most cases, the fact that something is new is not relevant to an argument about the comparison of traits.\n",
       "- An exception to this is in markets, where novelty itself is highly valued (e.g., marketing argument in pharmaceuticals).\n",
       "- However, as a patient, it is important to consider if a new drug has better results and fewer side effects compared to an older drug with a larger body of clinical experience and evidence."
      ],
      "text/plain": [
       "<IPython.core.display.Markdown object>"
      ]
     },
     "metadata": {},
     "output_type": "display_data"
    },
    {
     "data": {
      "text/markdown": [
       "**10.11.9 The Slippery Slope**\n",
       "\n",
       "\n",
       "\n",
       "- \"Tipping point\" is often used to explain how a small set of causes can lead to a big effect\n",
       "- Slippery slope fallacy is closely related to the concept of a tipping point\n",
       "- Slippery slopes occur when a chain of seemingly related events unfolds from a small initial action, resulting in an undesired significant effect\n",
       "- Slippery slope arguments lack an underlying mechanism and are based on a longer chain of logical relationships\n",
       "- These arguments assume no breakpoints, thresholds, or decision points exist along the chain\n",
       "- Slippery slopes can be effective rhetorical devices but are often not defensible reasoning processes\n",
       "- The \"boiling frog\" story, often used to illustrate a slippery slope, is anecdotal and not supported by evidence\n",
       "- Frogs actually have been observed to jump out of the pot when the water gets hot enough"
      ],
      "text/plain": [
       "<IPython.core.display.Markdown object>"
      ]
     },
     "metadata": {},
     "output_type": "display_data"
    },
    {
     "data": {
      "text/markdown": [
       "**10.12 Bad Decisions Are Human:**\n",
       "\n",
       "*Navigate organizational, personal, legal, and ethical constraints to facilitatebetter decision making and improve communication.*\n",
       "\n",
       "- Reference to the film clip from 2001: A Space Odyssey, where the HAL 9000 computer is portrayed as having superior intelligence and reliability compared to humans\n",
       "- HAL 9000 is described as the brain and central nervous system of the ship, responsible for watching over the crew in hibernation\n",
       "- HAL 9000 claims to be foolproof and incapable of error, with the 9000 series being the most reliable computer ever made\n",
       "- HAL 9000 expresses enjoyment in working with people and putting itself to the fullest possible use\n",
       "- HAL 9000 detects a fault in the AE-35 unit and predicts a 100% failure within 72 hours, recommending to let it fail for easier troubleshooting\n",
       "- Mission control disputes the prediction and shares findings from their twin 9000 computer, indicating that HAL 9000 may be in error\n",
       "- HAL 9000 dismisses the possibility of computer error and attributes it to human error, citing a perfect operational record for the 9000 series\n",
       "- Frank expresses trust in HAL 9000, but the conversation ends with HAL 9000 requesting assistance with its transmitter and pod trouble\n",
       "\n",
       "Key Points:\n",
       "1. The clip highlights the over-reliance on technology and the potential dangers of blind trust in its infallibility.\n",
       "2. HAL 9000 demonstrates biases and fallacies of argumentation by dismissing the possibility of its own error and attributing it solely to human error.\n",
       "3. The situation raises questions about the limitations and ethical considerations of relying on artificial intelligence for decision making.\n",
       "4. The need for human oversight and critical thinking is emphasized, as technology is not immune to mistakes or faults.\n",
       "5. The clip serves as a cautionary tale about the potential consequences of bad decisions made by both humans and machines."
      ],
      "text/plain": [
       "<IPython.core.display.Markdown object>"
      ]
     },
     "metadata": {},
     "output_type": "display_data"
    },
    {
     "data": {
      "text/markdown": [
       "**10.13 Bad Decisions Are Human**\n",
       "\n",
       "\n",
       "\n",
       "- Humans are bad at decision making, especially under high-pressure situations\n",
       "- Bad decisions are not solely due to lack of data, noisy data, bias in data interpretation, or mistakes in reasoning\n",
       "- Humans are inherently flawed in decision making due to a combination of these factors\n",
       "- Every generation seeks technological solutions to improve decision making\n",
       "- Examples include self-driving cars, advanced knowledge management systems, and decision support systems for doctors\n",
       "- The desire for technological solutions is reflected in science fiction movies and novels\n",
       "- The role of data scientists in the future is to address biases and fallacies in decision making, and minimize their impact on organizational performance\n",
       "- Overcoming these challenges requires working with the reasoning, social, and business systems in which data science operates\n",
       "- Simply relying on computational power and data is not enough to improve decision making."
      ],
      "text/plain": [
       "<IPython.core.display.Markdown object>"
      ]
     },
     "metadata": {},
     "output_type": "display_data"
    },
    {
     "data": {
      "text/markdown": [
       "**10.14 The Rules of Inference**\n",
       "\n",
       "\n",
       "\n",
       "- Need for agreed set of rules or inference to address fallacies of argumentation problem\n",
       "- Lack of shared rules of inference among people, especially in a global context\n",
       "- Importance of identifying and clearly defining a few important rules for business argumentation\n",
       "- Reference to John Stuart Mill's four basic rules of inference: method of agreement, method of disagreement, joint method of agreement and disagreement, method of concomitant variation\n",
       "- Focus on Mill's method of agreement\n",
       "- Explanation of Mill's method of agreement: if two or more phenomena have only one common circumstance, that circumstance is a cause or effect of the given phenomenon\n",
       "- Practical example of investigating decline in demand for blue widgets using Mill's method of agreement\n",
       "- Importance of explaining the phenomenon to the boss in a simple and compelling fashion"
      ],
      "text/plain": [
       "<IPython.core.display.Markdown object>"
      ]
     },
     "metadata": {},
     "output_type": "display_data"
    },
    {
     "data": {
      "text/markdown": [
       "**Applied and Theoretical Examples ofthe Rules of Inference**"
      ],
      "text/plain": [
       "<IPython.core.display.Markdown object>"
      ]
     },
     "metadata": {},
     "output_type": "display_data"
    },
    {
     "data": {
      "text/markdown": [
       "**10.15.1 Applied Examples of the Rules of Inference**\n",
       "\n",
       "*Justify an analytic approach that informs decision making.*\n",
       "\n",
       "*Navigate organizational, personal, legal, and ethical constraints to facilitate better decision making and improve communication.*\n",
       "\n",
       "- John Stuart Mill's four rules of inference:\n",
       "   1. Method of agreement: If x is a necessary cause of y, you must observe x every time you observe y.\n",
       "   2. Method of difference: If x is a sufficient cause of y, then when x is present, y will be observed, and when x is absent, y will not be observed.\n",
       "   3. Joint method of agreement and difference: If x is a necessary and sufficient cause of y, it must be present when y is observed and absent when y is not observed.\n",
       "   4. Method of concomitant variation: If x and y vary together in a consistent manner, there is likely a causal relationship between them.\n",
       "\n",
       "- Applied example of the method of agreement:\n",
       "   - Claim: A PhD is a necessary cause of being a professor.\n",
       "   - In order to observe someone as a professor (y), they must have a PhD (x).\n",
       "   - Having a PhD is necessary to be a professor, but not sufficient.\n",
       "   - Not all individuals with a PhD are professors.\n",
       "\n",
       "- Example of the importance of the temporal relationship:\n",
       "   - Claim: Investor attitudes influence CEO behavior.\n",
       "   - Investor attitudes (x) exist prior to CEO behavior (y), satisfying the requirement that x comes before y.\n",
       "   - However, there may be a different story where CEO behavior influences investor opinion, reversing the causal relationship.\n",
       "   - The relationship between x and y can be more complex than initially posited, highlighting the need to be clear about the assumptions underlying the causal story.\n",
       "\n",
       "- Conclusion:\n",
       "   - Articulating a causal story requires clarity about the assumptions that form the foundation of the story.\n",
       "   - Different causal relationships may exist, challenging initial assumptions.\n",
       "   - Understanding and applying the rules of inference can facilitate better decision making by considering various factors and constraints.\n",
       "   - Improved communication can be achieved by justifying an analytic approach based on these rules."
      ],
      "text/plain": [
       "<IPython.core.display.Markdown object>"
      ]
     },
     "metadata": {},
     "output_type": "display_data"
    },
    {
     "data": {
      "text/markdown": [
       "**10.15.2 John Stuart Mill's Rules of Inference**\n",
       "\n",
       "*Justify an analytic approach that informs decision making.*\n",
       "\n",
       "*Navigateorganizational, personal, legal, and ethical constraints to facilitate better decision making and improve communication.*\n",
       "\n",
       "- John Stuart Mill's Rules of Inference are methods for identifying causes and effects in a phenomenon under investigation.\n",
       "- The Method of Difference:\n",
       "   - Compares two instances where the phenomenon occurs and does not occur, with all circumstances except one being common.\n",
       "   - The differing circumstance is considered the cause or a necessary part of the cause of the phenomenon.\n",
       "   - It doesn't exclude the possibility that the differing circumstance is an effect of the phenomenon.\n",
       "- The Joint Method of Agreement and Difference:\n",
       "   - Compares multiple instances where the phenomenon occurs and multiple instances where it does not occur.\n",
       "   - The only common circumstance in the instances where it occurs is considered the cause or a necessary part of the cause of the phenomenon.\n",
       "   - The differing circumstance in the instances where it does not occur is considered the cause or a necessary part of the cause of the phenomenon.\n",
       "- The Method of Concomitant Variation:\n",
       "   - Focuses on the quantitative variation of two connected phenomena.\n",
       "   - When variations in one phenomenon are consistently related to variations in another, a causal connection is inferred.\n",
       "   - The broader the set of circumstances in which this relationship is observed, the stronger the inference.\n",
       "- These rules help in justifying an analytic approach for decision-making and navigating constraints to improve communication."
      ],
      "text/plain": [
       "<IPython.core.display.Markdown object>"
      ]
     },
     "metadata": {},
     "output_type": "display_data"
    },
    {
     "data": {
      "text/markdown": [
       "**10.16 **\n",
       "\n",
       "\n",
       "\n",
       "- Pragmatic limits to inferential rules\n",
       "  - Two big limits on inference in a business setting\n",
       "- First limit: John Stuart Mill (JSM) presupposes a good candidate list of causes\n",
       "  - The list of causes should include the important cause that drives the phenomenon\n",
       "  - Where does the list of candidates come from?\n",
       "    - Informed guess, previous work, history, opinion\n",
       "  - If the desired cause is missing from the list, there is a limit to inference\n",
       "- Second limit: JSM presupposes relatively simple causal relationships\n",
       "  - JSM's rules don't handle complex conjunctural causation well\n",
       "  - Complex conjunctural causation: many factors causing an outcome together, possibly on different time frames\n",
       "  - Example: oncogene is the tumor initiator, but there are other factors like high fat diet and low exercise lifestyle as tumor promoters\n",
       "  - JSM's method may not be able to identify complex causal relationships\n",
       "- Managing complex causation is possible with advanced statistics, but not covered in this course\n",
       "- Purpose: Understand the challenges of isolating and explaining causation findings"
      ],
      "text/plain": [
       "<IPython.core.display.Markdown object>"
      ]
     },
     "metadata": {},
     "output_type": "display_data"
    },
    {
     "data": {
      "text/markdown": [
       "**10.17 Expert Mind vs. Beginner Mind**\n",
       "\n",
       "\n",
       "\n",
       "- The concept of expert mind vs. beginner mind is discussed in relation to pattern matching and interpretation of data.\n",
       "- The expert mind is described as being highly skilled at pattern matching and quickly identifying patterns in data.\n",
       "- The beginner mind, on the other hand, lacks established patterns and is more open to exploring and discovering patterns.\n",
       "- The value of the beginner mind is emphasized, particularly in dealing with pragmatic paradoxes or optical illusions.\n",
       "- The idea of adopting a beginner's mind or 11-month-old baby attitude is encouraged as an exercise to explore alternate perspectives.\n",
       "- The purpose of the discussion is to suggest a simpler and more pragmatic way to understand the interpretation of patterns in the mind."
      ],
      "text/plain": [
       "<IPython.core.display.Markdown object>"
      ]
     },
     "metadata": {},
     "output_type": "display_data"
    },
    {
     "data": {
      "text/markdown": [
       "**10.18 Premortum Analysis**\n",
       "\n",
       "*Navigate organizational, personal, legal, and ethical constraints to facilitate better decision making and improve communication .*\n",
       "\n",
       "- Premortem analysis is a technique introduced by Nobel Laureate Daniel Kahneman to eliminate thinking biases and improve decision making.\n",
       "- It involves conducting a hypothetical postmortem of a decision or project before it actually takes place.\n",
       "- The purpose of the premortem analysis is to identify potential problems and failures that might occur in the future and develop strategies to prevent or mitigate them.\n",
       "- The technique helps in considering different perspectives and viewpoints, which may reveal previously overlooked risks or challenges.\n",
       "- Premortem analysis allows for open and honest communication among team members, encouraging everyone to speak up and share their concerns or doubts.\n",
       "- This technique helps to counteract the optimistic bias and overconfidence that often lead to flawed decision making.\n",
       "- By encouraging individuals to actively criticize and question their own assumptions and plans, premortem analysis facilitates a more thorough evaluation of potential risks and improves decision making.\n",
       "- Premortem analysis should be conducted in a safe and constructive environment, where participants are encouraged to provide feedback without fear of judgment or repercussions.\n",
       "- The technique can be applied to various contexts, such as business projects, personal decisions, or policy making.\n",
       "- Ethical considerations should be taken into account during the premortem analysis to ensure that the process respects the rights and well-being of individuals involved.\n",
       "- Legal constraints should also be considered, especially when conducting premortem analysis in organizations or sensitive contexts.\n",
       "- In summary, premortem analysis is a powerful technique that helps overcome biases, improve decision making, and enhance communication by identifying and addressing potential problems and failures before they occur."
      ],
      "text/plain": [
       "<IPython.core.display.Markdown object>"
      ]
     },
     "metadata": {},
     "output_type": "display_data"
    }
   ],
   "source": [
    "# Copy and past from the output of the cell to your notes\n",
    "\n",
    "for section in sections:\n",
    "    if section.gpt_notes == \"\":\n",
    "        # print(section.title)\n",
    "        display(Markdown('**' + str(section.title) + '**'))\n",
    "    else:\n",
    "        section.display()"
   ]
  },
  {
   "cell_type": "code",
   "execution_count": null,
   "metadata": {},
   "outputs": [],
   "source": []
  }
 ],
 "metadata": {
  "kernelspec": {
   "display_name": "openAI_venv",
   "language": "python",
   "name": "python3"
  },
  "language_info": {
   "codemirror_mode": {
    "name": "ipython",
    "version": 3
   },
   "file_extension": ".py",
   "mimetype": "text/x-python",
   "name": "python",
   "nbconvert_exporter": "python",
   "pygments_lexer": "ipython3",
   "version": "3.10.9"
  },
  "orig_nbformat": 4
 },
 "nbformat": 4,
 "nbformat_minor": 2
}
