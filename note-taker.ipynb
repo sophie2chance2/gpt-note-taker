{
 "cells": [
  {
   "cell_type": "code",
   "execution_count": 47,
   "metadata": {},
   "outputs": [],
   "source": [
    "import PyPDF2\n",
    "import re\n",
    "from IPython.display import display, Markdown\n",
    "\n",
    "import os\n",
    "import openai\n",
    "\n",
    "import json\n",
    "credentials = json.load(open('keys.json'))\n",
    "openai.organization = credentials['organization_key']\n",
    "openai.api_key = credentials['api_key']"
   ]
  },
  {
   "cell_type": "code",
   "execution_count": 2,
   "metadata": {},
   "outputs": [],
   "source": [
    "class Section:\n",
    "    def __init__(self, number, title, text, lo, gpt_notes = \"\"):\n",
    "        self.number = number\n",
    "        self.title = title\n",
    "        self.text = text\n",
    "        self.lo = lo\n",
    "        self.gpt_notes = gpt_notes\n",
    "\n",
    "    def __str__(self):\n",
    "        lo_string = \"\\n\\n\".join(f'*{lo}*' for lo in self.lo)\n",
    "        return f'**{self.number} {self.title}**\\n\\n{lo_string}\\n\\n{self.gpt_notes}'\n",
    "    \n",
    "    def display(self):\n",
    "        display(Markdown(str(self)))"
   ]
  },
  {
   "cell_type": "code",
   "execution_count": 3,
   "metadata": {},
   "outputs": [],
   "source": [
    "def get_pdf_content(file_path):\n",
    "    pdf_file_obj = open(file_path, 'rb')\n",
    "    reader = PyPDF2.PdfReader(pdf_file_obj)\n",
    "\n",
    "    content = \"\"\n",
    "    for page_num in range(len(reader.pages)):\n",
    "        page_obj = reader.pages[page_num]\n",
    "        content += page_obj.extract_text()\n",
    "\n",
    "    pdf_file_obj.close()\n",
    "\n",
    "    return content\n",
    "\n",
    "def find_sections(content):\n",
    "    pattern = r\"(7\\.\\d+(\\.\\d+)*)(.*?)(?=(7\\.\\d+(\\.\\d+)*)|$)\"\n",
    "    sections_raw = re.findall(pattern, content, re.DOTALL)\n",
    "    sections = []\n",
    "    for t in sections_raw:\n",
    "        number = t[0]\n",
    "        title = t[2].split(\"\\n\")[0].lstrip().rstrip()\n",
    "        text = t[2]\n",
    "        text = text.replace(title, '').replace(\"This element addresses the following learning objective of this course:\\n\", '').replace(\"This element addresses the following learning objectives of this course:\", '').replace(\"\\n\", \" \").replace(\"● \", \"\").replace(\"  \", \" \").lstrip().rstrip()\n",
    "        text_without_lo = remove_lo(text)\n",
    "        lo = get_lo(text)\n",
    "        sections.append(Section(number, title, text_without_lo, lo))\n",
    "    return sections\n",
    "\n",
    "def get_lo(content):\n",
    "    pattern = r\"(LO\\d+:.*?[.!?])\"\n",
    "    los = re.findall(pattern, content)\n",
    "    return [re.sub(r'LO\\d+: ', '', lo) for lo in los]\n",
    "\n",
    "def remove_lo(content):\n",
    "    pattern = r\"(LO\\d+:.*?[.!?])\"\n",
    "    return re.sub(pattern, '', content, flags=re.MULTILINE)"
   ]
  },
  {
   "cell_type": "code",
   "execution_count": 4,
   "metadata": {},
   "outputs": [],
   "source": [
    "# Read in the PDF\n",
    "pdf_content = get_pdf_content('Week 7 transcript  (updated Feb 22).pdf')"
   ]
  },
  {
   "cell_type": "code",
   "execution_count": 5,
   "metadata": {},
   "outputs": [],
   "source": [
    "# Overwrite all the workd that is done. DO NOT DO THIS UNLESS YOU WANT TO START OVER\n",
    "sections = find_sections(pdf_content)"
   ]
  },
  {
   "cell_type": "code",
   "execution_count": 6,
   "metadata": {},
   "outputs": [
    {
     "name": "stdout",
     "output_type": "stream",
     "text": [
      "Data Collection Philosophy Complete\n",
      "Existing or New Data Complete\n",
      "Acquire and Clean Data Complete\n",
      "Overview of Methods Complete\n",
      "Tips on How to Choose a Method Complete\n",
      "Internal and External Validity Complete\n",
      "The Intersection of Data, Method, and Complete\n",
      "Introduction to a Perspective from IBM’s Journey Complete\n",
      " Complete\n",
      " Complete\n",
      " Complete\n",
      "Design Research to Generate Applied Insight Complete\n",
      "Keep the Audience in Mind Complete\n",
      "Communicate Insight, Hypotheses Testing, and the Word “Prove” Complete\n",
      "Different Deliverables Complete\n",
      "Different Audiences Complete\n",
      "Creswell and Creswell, Chapter 10: Mixed Methods Procedures Complete\n",
      "The Data Detective by T im Harford Complete\n"
     ]
    }
   ],
   "source": [
    "for section in sections:\n",
    "    if section.text == \"\" or \"on the following prompt\" in section.text:\n",
    "        continue\n",
    "    if section.gpt_notes != \"\":\n",
    "        continue\n",
    "    else:\n",
    "        gpt_content = f\"\"\"Topic: {section.title}\n",
    "        Detail Level: I would like something between high-level summary and detailed notes.\n",
    "        Learning Objectives: {'; '.join(section.lo)}\n",
    "        Format: I prefer the notes to be in bullet-point or table format.\n",
    "        Course Transcript: {section.text}\n",
    "        Purpose: The notes are for my personal understanding and to facilitate in class discussion with my peers.\"\"\"\n",
    "        completion = openai.ChatCompletion.create(\n",
    "            model=\"gpt-3.5-turbo\",\n",
    "            messages=[\n",
    "                {\"role\": \"user\", \n",
    "                 \"content\": gpt_content}\n",
    "                 ])\n",
    "        section.gpt_notes = completion.choices[0].message.content\n",
    "\n",
    "    print(section.title, \"- Complete\")"
   ]
  },
  {
   "cell_type": "code",
   "execution_count": 39,
   "metadata": {},
   "outputs": [
    {
     "data": {
      "text/markdown": [
       "**Data Collection**"
      ],
      "text/plain": [
       "<IPython.core.display.Markdown object>"
      ]
     },
     "metadata": {},
     "output_type": "display_data"
    },
    {
     "data": {
      "text/markdown": [
       "**7.1.1 Data Collection Philosophy**\n",
       "\n",
       "*Assess and select specific data and the data collection methods that best fit a specific outcome or need.*\n",
       "\n",
       "- Earlier philosophy: collect as much data as possible and worry about what to do with it later\n",
       "- Current philosophy: collect as much data as you need and not more\n",
       "- Strategic collection of data can minimize unnecessary risk\n",
       "- Collect data with purpose to avoid paying for unnecessary server space\n",
       "- International and regional policies on data protection and privacy affect data collection philosophy\n",
       "- Assess and select data collection methods that best fit specific outcome or need\n",
       "- Collecting too much data requires storage and analysis of larger quantities of data\n",
       "- Purposeful data collection helps avoid sifting through unnecessary data \n",
       "- Collecting only necessary data can help ensure compliance with regulations on data protection and privacy"
      ],
      "text/plain": [
       "<IPython.core.display.Markdown object>"
      ]
     },
     "metadata": {},
     "output_type": "display_data"
    },
    {
     "data": {
      "text/markdown": [
       "**7.1.2 Existing or New Data**\n",
       "\n",
       "*Assess and select specific data and the data collection methods that best fit a specific outcome or need.*\n",
       "\n",
       "- Deciding between using existing or new data\n",
       "- Trade-offs between off-the-shelf data and new data collection\n",
       "- Consider the purpose of the initial data collection when deciding if existing data is sufficient\n",
       "- Example of when existing data may be sufficient: auto manufacturer collects data on production and output, and wants to test a new piece of equipment for efficiency. Leadership wants to deploy it in the lines with the most potential for impact, even if it's in lower yield production lines.\n",
       "- Example of when existing data may not be sufficient: major retailer has data on curbside pickup popularity but wants to consider the viability of home delivery. Can't automatically extrapolate and should consider collecting new data about users' willingness to embrace home delivery or using industry data.\n",
       "- Be aware of the initial intent of why the data was collected and articulate how existing data will help answer the question."
      ],
      "text/plain": [
       "<IPython.core.display.Markdown object>"
      ]
     },
     "metadata": {},
     "output_type": "display_data"
    },
    {
     "data": {
      "text/markdown": [
       "**7.1.3 Acquire and Clean Data**\n",
       "\n",
       "*Assess and select specific data and the data collection methods that best fit a specific outcome or need.*\n",
       "\n",
       "Acquiring and Cleaning Data:\n",
       "\n",
       "Acquiring Data:\n",
       "- Identify the data needed for a specific outcome or need\n",
       "- Determine the best data collection method (Surveys, interviews, experiments, observations, etc.)\n",
       "- Consider the quality and reliability of the data source\n",
       "- Obtain permission to access necessary data\n",
       "\n",
       "Cleaning Data:\n",
       "- Identify missing or incomplete data\n",
       "- Remove duplicate data\n",
       "- Standardize data formats (e.g., date and time formats)\n",
       "- Remove outliers and errors\n",
       "- Transform data to ensure the data is consistent with analysis objectives\n",
       "- Ensure data accuracy and completeness\n",
       "- Label variables clearly to make it easier to work with in the subsequent analysis\n",
       "\n",
       "Assessing Data Quality:\n",
       "- Completeness: Is the data missing any values or variables?\n",
       "- Accuracy: How precise is the data?\n",
       "- Validity: Is the data relevant and appropriate for the analysis?\n",
       "- Consistency: Are there any discrepancies or errors in the data?\n",
       "- Timeliness: Is the data up-to-date and relevant to the current analysis?\n",
       "\n",
       "Overall, acquiring and cleaning data can be a time-consuming process, but it is essential to obtain reliable and usable data for analysis. It is crucial to identify specific data needs, select the best data collection method, and assess the data quality to ensure the data is accurate, complete, and valid."
      ],
      "text/plain": [
       "<IPython.core.display.Markdown object>"
      ]
     },
     "metadata": {},
     "output_type": "display_data"
    },
    {
     "data": {
      "text/markdown": [
       "**The Intent of Data Collection**"
      ],
      "text/plain": [
       "<IPython.core.display.Markdown object>"
      ]
     },
     "metadata": {},
     "output_type": "display_data"
    },
    {
     "data": {
      "text/markdown": [
       "**Method Selection**"
      ],
      "text/plain": [
       "<IPython.core.display.Markdown object>"
      ]
     },
     "metadata": {},
     "output_type": "display_data"
    },
    {
     "data": {
      "text/markdown": [
       "**7.3.1 Overview of Methods**\n",
       "\n",
       "*Design and apply research questions.\n",
       "\n",
       "Justify an analytic approach that informs decision making.*\n",
       "\n",
       "- Research approach is the broad plan that includes worldview, design, and methods.\n",
       "- Design articulates type of inquiry, such as qualitative, quantitative, or mixed, and specific procedures of the study.\n",
       "- Method includes plan for data collection, analysis, and interpretation.\n",
       "- Methods vary based on industry, task, and year, and specific tools or programs are not mentioned.\n",
       "- Examples of methods include surveys, in-depth interviews, semi-structured interviews, structured interviews, ethnographies, experiments, observational studies, cross-sectional studies, single slice in time studies, and time series studies.\n",
       "- The notes are for personal understanding and to facilitate discussion with peers. \n",
       "- Learning objectives include designing and applying research questions and justifying analytic approaches for decision making."
      ],
      "text/plain": [
       "<IPython.core.display.Markdown object>"
      ]
     },
     "metadata": {},
     "output_type": "display_data"
    },
    {
     "data": {
      "text/markdown": [
       "**7.3.2 Tips on How to Choose a Method**\n",
       "\n",
       "*Design and apply research questions.\n",
       "\n",
       "Justify an analytic approach that informs decision making.*\n",
       "\n",
       "Tips on How to Choose a Research Method:\n",
       "\n",
       "- Determine the type of answer you're looking for\n",
       "- Decide between a qualitative, quantitative, or mixed-method approach\n",
       "- Consider the familiarity of the audience with different methods\n",
       "- Determine if statistical significance or confidence metrics are required\n",
       "- Consider the need to explain the method to others\n",
       "- Take into account the expected sample size\n",
       "- Consider the time available to complete the project\n",
       "- Evaluate existing information and determine if it can be built upon or if starting from scratch is necessary\n",
       "- Let the research question and needs of the project guide the selection of the method"
      ],
      "text/plain": [
       "<IPython.core.display.Markdown object>"
      ]
     },
     "metadata": {},
     "output_type": "display_data"
    },
    {
     "data": {
      "text/markdown": [
       "**7.3.3 Internal and External Validity**\n",
       "\n",
       "*Design and apply research questions.\n",
       "\n",
       "Justify an analytic approach that informs decision making.*\n",
       "\n",
       "- Internal validity threats limit the validity of conclusions drawn from a study design\n",
       "- Example: Experiment with human subjects where tablets are given to some students to see impact on attention span\n",
       "- Diffusion is an internal validity threat where control group interacts with treatment group\n",
       "- Solution may be to assign treatment at class level instead of individual level\n",
       "- External validity is when sample, setting, or timing of project may limit validity of conclusions drawn\n",
       "- Example: Economic downturn during project may limit extrapolation to other time periods\n",
       "- External validity threats are often not within our control\n",
       "- Understanding and addressing internal and external validity threats is important for justifying analytic approach and decision making in research design."
      ],
      "text/plain": [
       "<IPython.core.display.Markdown object>"
      ]
     },
     "metadata": {},
     "output_type": "display_data"
    },
    {
     "data": {
      "text/markdown": [
       "**Interview or Survey**"
      ],
      "text/plain": [
       "<IPython.core.display.Markdown object>"
      ]
     },
     "metadata": {},
     "output_type": "display_data"
    },
    {
     "data": {
      "text/markdown": [
       "**7.5 The Intersection of Data, Method, and**\n",
       "\n",
       "**\n",
       "\n",
       "- Data, method, and detail level are interconnected in the analysis process\n",
       "- The level of detail in the data and method used can impact the accuracy and reliability of the analysis\n",
       "- The level of detail in the analysis should be aligned with the objectives and requirements of the project\n",
       "- Data should be collected and analyzed at the appropriate level of detail to avoid overlooking important insights or introducing bias\n",
       "- Different methods can be applied to the same data to achieve different levels of detail and precision\n",
       "- It's important to balance the level of detail with the practicality and timeliness of the analysis process\n",
       "- Collaboration and communication with stakeholders can help ensure that the level of detail and method used are appropriate and aligned with their needs\n",
       "- Iterative analysis and refinement may be necessary to adjust the level of detail and method used based on new insights or feedback. \n",
       "\n",
       "Table Format Example:\n",
       "\n",
       "| Key Points                                 |\n",
       "|-------------------------------------------|\n",
       "| Data, method, and detail level are interconnected in the analysis process |\n",
       "| The level of detail in the data and method used can impact the accuracy and reliability of the analysis       |\n",
       "| The level of detail in the analysis should be aligned with the objectives and requirements of the project |\n",
       "| Data should be collected and analyzed at the appropriate level of detail to avoid overlooking important insights or introducing bias |\n",
       "| Different methods can be applied to the same data to achieve different levels of detail and precision |\n",
       "| It's important to balance the level of detail with the practicality and timeliness of the analysis process |\n",
       "| Collaboration and communication with stakeholders can help ensure that the level of detail and method used are appropriate and aligned with their needs |\n",
       "| Iterative analysis and refinement may be necessary to adjust the level of detail and method used based on new insights or feedback |"
      ],
      "text/plain": [
       "<IPython.core.display.Markdown object>"
      ]
     },
     "metadata": {},
     "output_type": "display_data"
    },
    {
     "data": {
      "text/markdown": [
       "**7.5.1 Introduction to a Perspective from IBM’s Journey**\n",
       "\n",
       "*Justify an analytic approach that informs decision making.\n",
       "\n",
       "Navigate organizational, personal, legal, and ethical constraints to facilitate better decision making and improve communication.*\n",
       "\n",
       "- Irving Wladawsky-Berger has a unique perspective on the development of business intelligence and data science at IBM\n",
       "- Pay attention to his insights on early manifestations of data mining and the relationship between pattern matching and intelligence\n",
       "- He also has a perspective on models as a philosophy of science and associates elegance with deductive modeling\n",
       "- The question of whether elegance still matters in modeling is important and related to some of the reading for the week\n",
       "- Irving is a humanist and cares about the impact of IBM's work on people and society\n",
       "- The notes are for personal understanding and in-class discussion."
      ],
      "text/plain": [
       "<IPython.core.display.Markdown object>"
      ]
     },
     "metadata": {},
     "output_type": "display_data"
    },
    {
     "data": {
      "text/markdown": [
       "**7.5.2 **\n",
       "\n",
       "*Justify an analytic approach that informs decision making.\n",
       "\n",
       "Navigate organizational, personal, legal, and ethical constraints to facilitate better decision making and improve communication.*\n",
       "\n",
       "- Irving Wladavsky-Berger, a retired IBM executive and strategic advisor at Citigroup, believes that the biggest impact of data science will be in people-oriented disciplines such as social sciences, healthcare, business, management, and government.\n",
       "- The concept of data mining was initially used by high energy physics community to gather large amounts of data and apply sophisticated algorithms and powerful supercomputers to look for patterns to discover new particles.\n",
       "- Companies started using data mining for business intelligence to find patterns in marketing, sales, and markets. The financial industry applied it for fraud detection.\n",
       "- In 1997, IBM's Deep Blue supercomputer beat then-world champion Garry Kasparov in a chess match. Deep Blue was a pattern matching induction machine that evaluated probabilities of different moves.\n",
       "- While applying data science to simpler decision-making processes like inventory management or fraud detection is relatively straightforward, applying it to more complex decision-making processes like healthcare diagnosis or business strategy evaluation requires modeling.\n",
       "- To develop a better understanding of how people make complex decisions, new disciplines will need to emerge around decision-making."
      ],
      "text/plain": [
       "<IPython.core.display.Markdown object>"
      ]
     },
     "metadata": {},
     "output_type": "display_data"
    },
    {
     "data": {
      "text/markdown": [
       "**7.5.3 **\n",
       "\n",
       "*Justify an analytic approach that informs decision making.\n",
       "\n",
       "Navigate organizational, personal, legal, and ethical constraints to facilitate better decision making and improve communication.*\n",
       "\n",
       "- Irving emphasizes that data will have a profound impact on human decision making, but it will take longer than expected.\n",
       "- We need to focus on models of what people value in order to train algorithms that align with human goals.\n",
       "- The problem is that human decision processes and values are complex and difficult to optimize for.\n",
       "- Choosing a training set for algorithmic decision making involves engaging with basic philosophical debates about human values.\n",
       "- It is impossible to avoid thinking about the relationship between the data set and the goals that we are trying to serve when working with important human goals.\n",
       "- Phil Nolan, an IBMer specialized in decision making, will discuss IBM's Watson system and its use for decision making.\n",
       "- Phil's perspective is complementary to Irving's, with a focus on the demand function rather than the supply function.\n",
       "- Phil has a sense of humor and will make the discussion more enjoyable."
      ],
      "text/plain": [
       "<IPython.core.display.Markdown object>"
      ]
     },
     "metadata": {},
     "output_type": "display_data"
    },
    {
     "data": {
      "text/markdown": [
       "**7.5.4 **\n",
       "\n",
       "*Design and apply research questions.\n",
       "\n",
       "Justify an analytic approach that informs decision making.\n",
       "\n",
       "Navigate organizational, personal, legal, and ethical constraints to facilitate better decision making and improve communication.*\n",
       "\n",
       "- Phil Nolan has been working on the intersection of technology and analytics for over 20 years, with a focus on solving difficult problems.\n",
       "- He is currently working with IBM on big data applications such as Watson.\n",
       "- Structured data (e.g. rows and columns like an Excel spreadsheet) and unstructured data (e.g. text, video, or audio where information comes from the context around it) are important distinctions to make in big data.\n",
       "- Watson was originally created to win at Jeopardy and demonstrate IBM's technical expertise around natural language processing and machine learning.\n",
       "- Watson's ability to take natural language questions as input and return answers and evidence with confidence from a large corpus of unstructured text is a remarkable achievement.\n",
       "- Watson is being used in healthcare for treatment decisions, financial research for investing, and in the federal government for analytics with unstructured text.\n",
       "- Defining the problem tightly enough can make it more tractable and easier to apply technology solutions.\n",
       "- In large data sets, patterns can be identified with powerful tools and data scientists, but when dealing with a data set collected for a purpose other than the question being asked, brilliant insights are necessary before the right tools can be applied.\n",
       "- The mixture of inductive and deductive methods is likely in the work Phil is doing with big data."
      ],
      "text/plain": [
       "<IPython.core.display.Markdown object>"
      ]
     },
     "metadata": {},
     "output_type": "display_data"
    },
    {
     "data": {
      "text/markdown": [
       "**Analysis**"
      ],
      "text/plain": [
       "<IPython.core.display.Markdown object>"
      ]
     },
     "metadata": {},
     "output_type": "display_data"
    },
    {
     "data": {
      "text/markdown": [
       "**7.6.1 Design Research to Generate Applied Insight**\n",
       "\n",
       "*Design and apply research questions.\n",
       "\n",
       "Justify an analytic approach that informs decision making.*\n",
       "\n",
       "- Design research must have a clear goal and objective to ensure meaningful insight is generated.\n",
       "- The goal of the research will influence the design of the study and the approach taken, i.e., descriptive, predictive, or explanatory.\n",
       "- The need for a recommendation will impact the design of the project, i.e., exploring various decisions versus simply predicting an outcome.\n",
       "- Consider the level of confidence the audience desires and ensure the current design can provide that level of confidence. If not, communicate what is needed.\n",
       "- Statistical significance is important, but the effect size should also be considered to avoid comments of unclear significance.\n",
       "- The primary question to consider is what the goal of the project is and how to design a study to achieve that goal."
      ],
      "text/plain": [
       "<IPython.core.display.Markdown object>"
      ]
     },
     "metadata": {},
     "output_type": "display_data"
    },
    {
     "data": {
      "text/markdown": [
       "**7.6.2 Keep the Audience in Mind**\n",
       "\n",
       "*Design and apply research questions.\n",
       "\n",
       "Justify an analytic approach that informs decision making.\n",
       "\n",
       "Identify the audience and the most ef fective method to communicate a persuasive argument.*\n",
       "\n",
       "- Analytical strategy should consider the audience's priors and incentive structure\n",
       "- The narrative and vocabulary should be tailored to persuade the audience\n",
       "- The communication strategy should influence the analysis chosen\n",
       "- Consider the audience's level of technical expertise\n",
       "- Design a project that the audience is comfortable with or provide sufficient information for unfamiliar frameworks\n",
       "- Approach will differ based on whether the audience wants to be informed or helped to make a decision"
      ],
      "text/plain": [
       "<IPython.core.display.Markdown object>"
      ]
     },
     "metadata": {},
     "output_type": "display_data"
    },
    {
     "data": {
      "text/markdown": [
       "**Deliverables**"
      ],
      "text/plain": [
       "<IPython.core.display.Markdown object>"
      ]
     },
     "metadata": {},
     "output_type": "display_data"
    },
    {
     "data": {
      "text/markdown": [
       "**7.7.1 Communicate Insight, Hypotheses Testing, and the Word “Prove”**\n",
       "\n",
       "*Justify an analytic approach that informs decision making.\n",
       "\n",
       "Identify the audience and the most ef fective method to communicate a persuasive argument.*\n",
       "\n",
       "- The word \"prove\" should be used cautiously in research and hypothesis testing because it implies a sense of certainty and conclusiveness that scientists may not be comfortable with. \n",
       "- Rejecting the null hypothesis does not necessarily prove the alternative hypothesis, as the same body of evidence can be consistent with other hypotheses. \n",
       "- Alternative explanations should be considered to avoid ignoring other potential factors that may affect the results. \n",
       "- Business contexts may prefer terms like \"suggest,\" \"find,\" or \"support\" instead of \"prove\" because they focus on providing recommendations rather than definitive conclusions. \n",
       "- Using the word \"prove\" in meetings can create tension and spark unproductive conversations. Choosing language that demonstrates some level of certainty but without an extreme sense of right and wrong may be more effective. \n",
       "- When communicating insights, consider the audience and determine the most effective method to communicate a persuasive argument. \n",
       "- Justifying an analytic approach that informs decision-making requires careful consideration of evidence and alternative explanations."
      ],
      "text/plain": [
       "<IPython.core.display.Markdown object>"
      ]
     },
     "metadata": {},
     "output_type": "display_data"
    },
    {
     "data": {
      "text/markdown": [
       "**7.7.2 Different Deliverables**\n",
       "\n",
       "*Justify an analytic approach that informs decision making.\n",
       "\n",
       "Identify the audience and the most ef fective method to communicate a persuasive argument.*\n",
       "\n",
       "- Final deliverable will depend on the audience and objective of research\n",
       "- Possible deliverables:\n",
       "  - Slide deck and presentation\n",
       "  - Paper or report\n",
       "  - Proof of concept or minimum viable product\n",
       "  - Code-based deliverables\n",
       "  - New model\n",
       "- Important to future-proof work, consider future self or how someone else may interpret code\n",
       "- Be sure to annotate to aid future understanding"
      ],
      "text/plain": [
       "<IPython.core.display.Markdown object>"
      ]
     },
     "metadata": {},
     "output_type": "display_data"
    },
    {
     "data": {
      "text/markdown": [
       "**7.7.3 Different Audiences**\n",
       "\n",
       "*Justify an analytic approach that informs decision making.\n",
       "\n",
       "Identify the audience and the most ef fective method to communicate a persuasive argument.*\n",
       "\n",
       "- When communicating, it's important to remember who your audience is\n",
       "- The intended audience should be a guiding heuristic for communication\n",
       "- The audience will impact the way you communicate in terms of vocabulary and emphasis on project aspects\n",
       "- The level of technical expertise will also impact communication style\n",
       "- Incentive structure is another factor to consider - the C-suite may care more about high-level recommendations and narrative compared to a technical team who may be convinced by nuances\n",
       "- Justifying an analytic approach should be tailored to the audience and what will be persuasive to them\n",
       "- Identifying the most effective method to communicate a persuasive argument is crucial for decision making."
      ],
      "text/plain": [
       "<IPython.core.display.Markdown object>"
      ]
     },
     "metadata": {},
     "output_type": "display_data"
    },
    {
     "data": {
      "text/markdown": [
       "**Creswell and Creswell Textbook**"
      ],
      "text/plain": [
       "<IPython.core.display.Markdown object>"
      ]
     },
     "metadata": {},
     "output_type": "display_data"
    },
    {
     "data": {
      "text/markdown": [
       "**7.8.1 Creswell and Creswell, Chapter 10: Mixed Methods Procedures**\n",
       "\n",
       "*Design and apply research questions.\n",
       "\n",
       "Assess and select data and the data collection methods that best fit a specific outcome or need.\n",
       "\n",
       "Justify an analytic approach that informs decision-making.*\n",
       "\n",
       "Mixed Methods Procedures - Creswell and Creswell, Chapter 10:\n",
       "- Mixed methods is a combination of quantitative and qualitative research methods to address research problem\n",
       "- It is important to ensure that the purpose of the study and the purpose of the mixed method approach is made clear\n",
       "- There are three high-level approaches to mixed method research:\n",
       "  - Quantitative and qualitative are done simultaneously to see if the results converge\n",
       "  - Qualitative work informs quantitative work by identifying the relationships to be studied\n",
       "  - Quantitative study is done first to identify interesting patterns, followed by qualitative approach to explain the quantitative results\n",
       "- Worldview, or our view about science and how the world works, can influence problem definition, the questions we ask, and which findings we emphasize\n",
       "- Acknowledging and being mindful of our worldview throughout the project can help us avoid biases and be more open-minded\n",
       "- Awareness of our biases can help us slow down our thinking and consider alternative perspectives that cannot be easily measured."
      ],
      "text/plain": [
       "<IPython.core.display.Markdown object>"
      ]
     },
     "metadata": {},
     "output_type": "display_data"
    },
    {
     "data": {
      "text/markdown": [
       "**7.9.1 The Data Detective by T im Harford**\n",
       "\n",
       "*Design and apply research questions.\n",
       "\n",
       "Assess and select data and the data collection methods that best fit a specific outcome or need.\n",
       "\n",
       "Justify an analytic approach that informs decision-making.*\n",
       "\n",
       "- Tim Harford's book \"The Data Detective\" emphasizes the importance of approaching statistics with a healthy level of skepticism and curiosity.\n",
       "- The introduction shows a contrast with \"How to Lie with Statistics\" but doesn't promote fear of statistics.\n",
       "- Rule 6: Ask Who is Missing encourages thinking about who is missing from data sets and studies, including gender and racial minorities.\n",
       "- It's important to consider both sample error and sample bias in analyzing data.\n",
       "- The Golden Rule: Be Curious emphasizes the value of curiosity, embracing failure, and storytelling in the research and decision-making process.\n",
       "- \"Tell me more\" summarizes the book's invitation to learn more and embrace a healthy skepticism and curiosity."
      ],
      "text/plain": [
       "<IPython.core.display.Markdown object>"
      ]
     },
     "metadata": {},
     "output_type": "display_data"
    }
   ],
   "source": [
    "for section in sections:\n",
    "    if section.gpt_notes == \"\":\n",
    "        # print(section.title)\n",
    "        display(Markdown('**' + str(section.title) + '**'))\n",
    "    else:\n",
    "        section.display()"
   ]
  },
  {
   "cell_type": "code",
   "execution_count": null,
   "metadata": {},
   "outputs": [],
   "source": []
  }
 ],
 "metadata": {
  "kernelspec": {
   "display_name": "openAI_venv",
   "language": "python",
   "name": "python3"
  },
  "language_info": {
   "codemirror_mode": {
    "name": "ipython",
    "version": 3
   },
   "file_extension": ".py",
   "mimetype": "text/x-python",
   "name": "python",
   "nbconvert_exporter": "python",
   "pygments_lexer": "ipython3",
   "version": "3.10.9"
  },
  "orig_nbformat": 4
 },
 "nbformat": 4,
 "nbformat_minor": 2
}
